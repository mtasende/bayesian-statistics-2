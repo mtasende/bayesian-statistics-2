{
 "cells": [
  {
   "cell_type": "code",
   "execution_count": 73,
   "metadata": {
    "collapsed": false
   },
   "outputs": [
    {
     "name": "stdout",
     "output_type": "stream",
     "text": [
      "Populating the interactive namespace from numpy and matplotlib\n",
      "The autoreload extension is already loaded. To reload it, use:\n",
      "  %reload_ext autoreload\n"
     ]
    }
   ],
   "source": [
    "import matplotlib.pyplot as plt\n",
    "import os\n",
    "import pandas as pd\n",
    "import sys\n",
    "from time import time\n",
    "import re\n",
    "import datetime as dt\n",
    "\n",
    "%matplotlib inline\n",
    "\n",
    "%pylab inline\n",
    "pylab.rcParams['figure.figsize'] = (20.0, 10.0)\n",
    "\n",
    "%load_ext autoreload\n",
    "%autoreload 2\n",
    "\n",
    "# Constants definition\n",
    "DATA_PATH = '../data/preprocessed_data/'\n",
    "PROJECT_ROOT = '../'\n",
    "SRC = PROJECT_ROOT + 'src/'\n",
    "\n",
    "DATA = 'data.csv'\n",
    "\n",
    "sys.path.append(SRC)"
   ]
  },
  {
   "cell_type": "code",
   "execution_count": 74,
   "metadata": {
    "collapsed": true
   },
   "outputs": [],
   "source": [
    "data_df = pd.read_csv(DATA_PATH + DATA, index_col=0)"
   ]
  },
  {
   "cell_type": "code",
   "execution_count": 75,
   "metadata": {
    "collapsed": false
   },
   "outputs": [
    {
     "data": {
      "text/html": [
       "<div>\n",
       "<style>\n",
       "    .dataframe thead tr:only-child th {\n",
       "        text-align: right;\n",
       "    }\n",
       "\n",
       "    .dataframe thead th {\n",
       "        text-align: left;\n",
       "    }\n",
       "\n",
       "    .dataframe tbody tr th {\n",
       "        vertical-align: top;\n",
       "    }\n",
       "</style>\n",
       "<table border=\"1\" class=\"dataframe\">\n",
       "  <thead>\n",
       "    <tr style=\"text-align: right;\">\n",
       "      <th></th>\n",
       "      <th>exchange_rate</th>\n",
       "      <th>symbol</th>\n",
       "      <th>date</th>\n",
       "      <th>cpi</th>\n",
       "      <th>name</th>\n",
       "      <th>country</th>\n",
       "      <th>region</th>\n",
       "      <th>cpi_usa</th>\n",
       "      <th>rate_std</th>\n",
       "    </tr>\n",
       "  </thead>\n",
       "  <tbody>\n",
       "    <tr>\n",
       "      <th>0</th>\n",
       "      <td>0.27224</td>\n",
       "      <td>AED</td>\n",
       "      <td>2007-01-15</td>\n",
       "      <td>86.95</td>\n",
       "      <td>United Arab Emirates dirham</td>\n",
       "      <td>United Arab Emirates</td>\n",
       "      <td>Middle East &amp; North Africa</td>\n",
       "      <td>92.83</td>\n",
       "      <td>1.000000</td>\n",
       "    </tr>\n",
       "    <tr>\n",
       "      <th>1</th>\n",
       "      <td>0.27230</td>\n",
       "      <td>AED</td>\n",
       "      <td>2007-02-15</td>\n",
       "      <td>86.95</td>\n",
       "      <td>United Arab Emirates dirham</td>\n",
       "      <td>United Arab Emirates</td>\n",
       "      <td>Middle East &amp; North Africa</td>\n",
       "      <td>93.32</td>\n",
       "      <td>1.000220</td>\n",
       "    </tr>\n",
       "    <tr>\n",
       "      <th>2</th>\n",
       "      <td>0.27242</td>\n",
       "      <td>AED</td>\n",
       "      <td>2007-03-15</td>\n",
       "      <td>86.95</td>\n",
       "      <td>United Arab Emirates dirham</td>\n",
       "      <td>United Arab Emirates</td>\n",
       "      <td>Middle East &amp; North Africa</td>\n",
       "      <td>94.17</td>\n",
       "      <td>1.000661</td>\n",
       "    </tr>\n",
       "    <tr>\n",
       "      <th>3</th>\n",
       "      <td>0.27233</td>\n",
       "      <td>AED</td>\n",
       "      <td>2007-04-15</td>\n",
       "      <td>86.95</td>\n",
       "      <td>United Arab Emirates dirham</td>\n",
       "      <td>United Arab Emirates</td>\n",
       "      <td>Middle East &amp; North Africa</td>\n",
       "      <td>94.79</td>\n",
       "      <td>1.000331</td>\n",
       "    </tr>\n",
       "    <tr>\n",
       "      <th>4</th>\n",
       "      <td>0.27241</td>\n",
       "      <td>AED</td>\n",
       "      <td>2007-05-15</td>\n",
       "      <td>86.95</td>\n",
       "      <td>United Arab Emirates dirham</td>\n",
       "      <td>United Arab Emirates</td>\n",
       "      <td>Middle East &amp; North Africa</td>\n",
       "      <td>95.37</td>\n",
       "      <td>1.000624</td>\n",
       "    </tr>\n",
       "  </tbody>\n",
       "</table>\n",
       "</div>"
      ],
      "text/plain": [
       "   exchange_rate symbol        date    cpi                         name  \\\n",
       "0        0.27224    AED  2007-01-15  86.95  United Arab Emirates dirham   \n",
       "1        0.27230    AED  2007-02-15  86.95  United Arab Emirates dirham   \n",
       "2        0.27242    AED  2007-03-15  86.95  United Arab Emirates dirham   \n",
       "3        0.27233    AED  2007-04-15  86.95  United Arab Emirates dirham   \n",
       "4        0.27241    AED  2007-05-15  86.95  United Arab Emirates dirham   \n",
       "\n",
       "                country                      region  cpi_usa  rate_std  \n",
       "0  United Arab Emirates  Middle East & North Africa    92.83  1.000000  \n",
       "1  United Arab Emirates  Middle East & North Africa    93.32  1.000220  \n",
       "2  United Arab Emirates  Middle East & North Africa    94.17  1.000661  \n",
       "3  United Arab Emirates  Middle East & North Africa    94.79  1.000331  \n",
       "4  United Arab Emirates  Middle East & North Africa    95.37  1.000624  "
      ]
     },
     "execution_count": 75,
     "metadata": {},
     "output_type": "execute_result"
    }
   ],
   "source": [
    "data_df.head()"
   ]
  },
  {
   "cell_type": "code",
   "execution_count": 84,
   "metadata": {
    "collapsed": false
   },
   "outputs": [],
   "source": [
    "data_df['rate_std'] = data_df.groupby('symbol').apply(lambda x: x['exchange_rate'] / x[x['date']=='2010-08-15']['exchange_rate'].values).reset_index(0, drop=True)"
   ]
  },
  {
   "cell_type": "code",
   "execution_count": 87,
   "metadata": {
    "collapsed": false
   },
   "outputs": [
    {
     "name": "stdout",
     "output_type": "stream",
     "text": [
      "[ 0.27238]\n",
      "[ 0.27238]\n",
      "[ 0.65869]\n",
      "[ 0.56821]\n",
      "[ 0.96026]\n",
      "[ 0.9625]\n",
      "[ 0.14732]\n",
      "[ 0.00055022]\n",
      "[ 2.2017]\n",
      "[ 0.051962]\n",
      "[ 0.17299]\n",
      "[ 0.0133978]\n",
      "[ 0.175886]\n",
      "[ 1.28861]\n",
      "[ 0.51784]\n",
      "[ 1.5646]\n",
      "[ 0.69746]\n",
      "[ 0.12869]\n",
      "[ 0.052924]\n",
      "[ 0.17773]\n",
      "[ 0.0045812]\n",
      "[ 0.00011153]\n",
      "[ 0.2636]\n",
      "[ 0.021487]\n",
      "[ 0.0083736]\n",
      "[ 0.0116811]\n",
      "[ 0.0117187]\n",
      "[ 0.00084693]\n",
      "[ 3.481]\n",
      "[ 0.0088937]\n",
      "[ 0.116022]\n",
      "[ 3.0017]\n",
      "[ 0.07827]\n",
      "[ 0.31716]\n",
      "[ 0.16235]\n",
      "[ 0.35703]\n",
      "[ 0.022133]\n",
      "[ 0.0116702]\n",
      "[ 0.32342]\n",
      "[ 0.3039]\n",
      "[ 0.03289]\n",
      "[ 0.26676]\n",
      "[ 0.136735]\n",
      "[ 0.7377]\n",
      "[ 0.042774]\n",
      "[ 0.031528]\n",
      "[ 0.68036]\n",
      "[ 0.66166]\n",
      "[ 0.15799]\n",
      "[ 0.048108]\n",
      "[  5.19420000e-05]\n",
      "[ 0.137129]\n"
     ]
    },
    {
     "data": {
      "text/html": [
       "<div>\n",
       "<style>\n",
       "    .dataframe thead tr:only-child th {\n",
       "        text-align: right;\n",
       "    }\n",
       "\n",
       "    .dataframe thead th {\n",
       "        text-align: left;\n",
       "    }\n",
       "\n",
       "    .dataframe tbody tr th {\n",
       "        vertical-align: top;\n",
       "    }\n",
       "</style>\n",
       "<table border=\"1\" class=\"dataframe\">\n",
       "  <thead>\n",
       "    <tr style=\"text-align: right;\">\n",
       "      <th></th>\n",
       "    </tr>\n",
       "  </thead>\n",
       "  <tbody>\n",
       "  </tbody>\n",
       "</table>\n",
       "</div>"
      ],
      "text/plain": [
       "Empty DataFrame\n",
       "Columns: []\n",
       "Index: []"
      ]
     },
     "execution_count": 87,
     "metadata": {},
     "output_type": "execute_result"
    }
   ],
   "source": [
    "data_df.groupby('symbol').apply(lambda x: print(x[x['date']=='2010-08-15']['exchange_rate'].values))"
   ]
  },
  {
   "cell_type": "code",
   "execution_count": 88,
   "metadata": {
    "collapsed": false
   },
   "outputs": [
    {
     "data": {
      "text/html": [
       "<div>\n",
       "<style>\n",
       "    .dataframe thead tr:only-child th {\n",
       "        text-align: right;\n",
       "    }\n",
       "\n",
       "    .dataframe thead th {\n",
       "        text-align: left;\n",
       "    }\n",
       "\n",
       "    .dataframe tbody tr th {\n",
       "        vertical-align: top;\n",
       "    }\n",
       "</style>\n",
       "<table border=\"1\" class=\"dataframe\">\n",
       "  <thead>\n",
       "    <tr style=\"text-align: right;\">\n",
       "      <th></th>\n",
       "      <th>exchange_rate</th>\n",
       "      <th>symbol</th>\n",
       "      <th>date</th>\n",
       "      <th>cpi</th>\n",
       "      <th>name</th>\n",
       "      <th>country</th>\n",
       "      <th>region</th>\n",
       "      <th>cpi_usa</th>\n",
       "      <th>rate_std</th>\n",
       "    </tr>\n",
       "  </thead>\n",
       "  <tbody>\n",
       "    <tr>\n",
       "      <th>0</th>\n",
       "      <td>0.27224</td>\n",
       "      <td>AED</td>\n",
       "      <td>2007-01-15</td>\n",
       "      <td>86.95</td>\n",
       "      <td>United Arab Emirates dirham</td>\n",
       "      <td>United Arab Emirates</td>\n",
       "      <td>Middle East &amp; North Africa</td>\n",
       "      <td>92.83</td>\n",
       "      <td>0.999486</td>\n",
       "    </tr>\n",
       "    <tr>\n",
       "      <th>1</th>\n",
       "      <td>0.27230</td>\n",
       "      <td>AED</td>\n",
       "      <td>2007-02-15</td>\n",
       "      <td>86.95</td>\n",
       "      <td>United Arab Emirates dirham</td>\n",
       "      <td>United Arab Emirates</td>\n",
       "      <td>Middle East &amp; North Africa</td>\n",
       "      <td>93.32</td>\n",
       "      <td>0.999706</td>\n",
       "    </tr>\n",
       "    <tr>\n",
       "      <th>2</th>\n",
       "      <td>0.27242</td>\n",
       "      <td>AED</td>\n",
       "      <td>2007-03-15</td>\n",
       "      <td>86.95</td>\n",
       "      <td>United Arab Emirates dirham</td>\n",
       "      <td>United Arab Emirates</td>\n",
       "      <td>Middle East &amp; North Africa</td>\n",
       "      <td>94.17</td>\n",
       "      <td>1.000147</td>\n",
       "    </tr>\n",
       "    <tr>\n",
       "      <th>3</th>\n",
       "      <td>0.27233</td>\n",
       "      <td>AED</td>\n",
       "      <td>2007-04-15</td>\n",
       "      <td>86.95</td>\n",
       "      <td>United Arab Emirates dirham</td>\n",
       "      <td>United Arab Emirates</td>\n",
       "      <td>Middle East &amp; North Africa</td>\n",
       "      <td>94.79</td>\n",
       "      <td>0.999816</td>\n",
       "    </tr>\n",
       "    <tr>\n",
       "      <th>4</th>\n",
       "      <td>0.27241</td>\n",
       "      <td>AED</td>\n",
       "      <td>2007-05-15</td>\n",
       "      <td>86.95</td>\n",
       "      <td>United Arab Emirates dirham</td>\n",
       "      <td>United Arab Emirates</td>\n",
       "      <td>Middle East &amp; North Africa</td>\n",
       "      <td>95.37</td>\n",
       "      <td>1.000110</td>\n",
       "    </tr>\n",
       "  </tbody>\n",
       "</table>\n",
       "</div>"
      ],
      "text/plain": [
       "   exchange_rate symbol        date    cpi                         name  \\\n",
       "0        0.27224    AED  2007-01-15  86.95  United Arab Emirates dirham   \n",
       "1        0.27230    AED  2007-02-15  86.95  United Arab Emirates dirham   \n",
       "2        0.27242    AED  2007-03-15  86.95  United Arab Emirates dirham   \n",
       "3        0.27233    AED  2007-04-15  86.95  United Arab Emirates dirham   \n",
       "4        0.27241    AED  2007-05-15  86.95  United Arab Emirates dirham   \n",
       "\n",
       "                country                      region  cpi_usa  rate_std  \n",
       "0  United Arab Emirates  Middle East & North Africa    92.83  0.999486  \n",
       "1  United Arab Emirates  Middle East & North Africa    93.32  0.999706  \n",
       "2  United Arab Emirates  Middle East & North Africa    94.17  1.000147  \n",
       "3  United Arab Emirates  Middle East & North Africa    94.79  0.999816  \n",
       "4  United Arab Emirates  Middle East & North Africa    95.37  1.000110  "
      ]
     },
     "execution_count": 88,
     "metadata": {},
     "output_type": "execute_result"
    }
   ],
   "source": [
    "data_df.head()"
   ]
  },
  {
   "cell_type": "code",
   "execution_count": 89,
   "metadata": {
    "collapsed": false
   },
   "outputs": [
    {
     "data": {
      "text/plain": [
       "<matplotlib.axes._subplots.AxesSubplot at 0x7f23b45e1748>"
      ]
     },
     "execution_count": 89,
     "metadata": {},
     "output_type": "execute_result"
    },
    {
     "data": {
      "image/png": "[encoded data removed]",
      "text/plain": [
       "<matplotlib.figure.Figure at 0x7f23b987e6d8>"
      ]
     },
     "metadata": {},
     "output_type": "display_data"
    }
   ],
   "source": [
    "data_df['rate_std'].hist(bins=100)"
   ]
  },
  {
   "cell_type": "code",
   "execution_count": 90,
   "metadata": {
    "collapsed": true
   },
   "outputs": [],
   "source": [
    "data_df.to_csv(DATA_PATH + DATA)"
   ]
  },
  {
   "cell_type": "code",
   "execution_count": 91,
   "metadata": {
    "collapsed": false
   },
   "outputs": [
    {
     "data": {
      "text/html": [
       "<div>\n",
       "<style>\n",
       "    .dataframe thead tr:only-child th {\n",
       "        text-align: right;\n",
       "    }\n",
       "\n",
       "    .dataframe thead th {\n",
       "        text-align: left;\n",
       "    }\n",
       "\n",
       "    .dataframe tbody tr th {\n",
       "        vertical-align: top;\n",
       "    }\n",
       "</style>\n",
       "<table border=\"1\" class=\"dataframe\">\n",
       "  <thead>\n",
       "    <tr style=\"text-align: right;\">\n",
       "      <th></th>\n",
       "      <th>exchange_rate</th>\n",
       "      <th>symbol</th>\n",
       "      <th>date</th>\n",
       "      <th>cpi</th>\n",
       "      <th>name</th>\n",
       "      <th>country</th>\n",
       "      <th>region</th>\n",
       "      <th>cpi_usa</th>\n",
       "      <th>rate_std</th>\n",
       "    </tr>\n",
       "  </thead>\n",
       "  <tbody>\n",
       "    <tr>\n",
       "      <th>0</th>\n",
       "      <td>0.27224</td>\n",
       "      <td>AED</td>\n",
       "      <td>2007-01-15</td>\n",
       "      <td>86.95</td>\n",
       "      <td>United Arab Emirates dirham</td>\n",
       "      <td>United Arab Emirates</td>\n",
       "      <td>Middle East &amp; North Africa</td>\n",
       "      <td>92.83</td>\n",
       "      <td>0.999486</td>\n",
       "    </tr>\n",
       "    <tr>\n",
       "      <th>1</th>\n",
       "      <td>0.27230</td>\n",
       "      <td>AED</td>\n",
       "      <td>2007-02-15</td>\n",
       "      <td>86.95</td>\n",
       "      <td>United Arab Emirates dirham</td>\n",
       "      <td>United Arab Emirates</td>\n",
       "      <td>Middle East &amp; North Africa</td>\n",
       "      <td>93.32</td>\n",
       "      <td>0.999706</td>\n",
       "    </tr>\n",
       "    <tr>\n",
       "      <th>2</th>\n",
       "      <td>0.27242</td>\n",
       "      <td>AED</td>\n",
       "      <td>2007-03-15</td>\n",
       "      <td>86.95</td>\n",
       "      <td>United Arab Emirates dirham</td>\n",
       "      <td>United Arab Emirates</td>\n",
       "      <td>Middle East &amp; North Africa</td>\n",
       "      <td>94.17</td>\n",
       "      <td>1.000147</td>\n",
       "    </tr>\n",
       "    <tr>\n",
       "      <th>3</th>\n",
       "      <td>0.27233</td>\n",
       "      <td>AED</td>\n",
       "      <td>2007-04-15</td>\n",
       "      <td>86.95</td>\n",
       "      <td>United Arab Emirates dirham</td>\n",
       "      <td>United Arab Emirates</td>\n",
       "      <td>Middle East &amp; North Africa</td>\n",
       "      <td>94.79</td>\n",
       "      <td>0.999816</td>\n",
       "    </tr>\n",
       "    <tr>\n",
       "      <th>4</th>\n",
       "      <td>0.27241</td>\n",
       "      <td>AED</td>\n",
       "      <td>2007-05-15</td>\n",
       "      <td>86.95</td>\n",
       "      <td>United Arab Emirates dirham</td>\n",
       "      <td>United Arab Emirates</td>\n",
       "      <td>Middle East &amp; North Africa</td>\n",
       "      <td>95.37</td>\n",
       "      <td>1.000110</td>\n",
       "    </tr>\n",
       "  </tbody>\n",
       "</table>\n",
       "</div>"
      ],
      "text/plain": [
       "   exchange_rate symbol        date    cpi                         name  \\\n",
       "0        0.27224    AED  2007-01-15  86.95  United Arab Emirates dirham   \n",
       "1        0.27230    AED  2007-02-15  86.95  United Arab Emirates dirham   \n",
       "2        0.27242    AED  2007-03-15  86.95  United Arab Emirates dirham   \n",
       "3        0.27233    AED  2007-04-15  86.95  United Arab Emirates dirham   \n",
       "4        0.27241    AED  2007-05-15  86.95  United Arab Emirates dirham   \n",
       "\n",
       "                country                      region  cpi_usa  rate_std  \n",
       "0  United Arab Emirates  Middle East & North Africa    92.83  0.999486  \n",
       "1  United Arab Emirates  Middle East & North Africa    93.32  0.999706  \n",
       "2  United Arab Emirates  Middle East & North Africa    94.17  1.000147  \n",
       "3  United Arab Emirates  Middle East & North Africa    94.79  0.999816  \n",
       "4  United Arab Emirates  Middle East & North Africa    95.37  1.000110  "
      ]
     },
     "execution_count": 91,
     "metadata": {},
     "output_type": "execute_result"
    }
   ],
   "source": [
    "data_df.head()"
   ]
  },
  {
   "cell_type": "code",
   "execution_count": 92,
   "metadata": {
    "collapsed": false
   },
   "outputs": [
    {
     "name": "stderr",
     "output_type": "stream",
     "text": [
      "/home/miguel/anaconda3/envs/keras/lib/python3.6/site-packages/ipykernel_launcher.py:1: UserWarning: Boolean Series key will be reindexed to match DataFrame index.\n",
      "  \"\"\"Entry point for launching an IPython kernel.\n"
     ]
    }
   ],
   "source": [
    "data_2010_df = data_df[data_df['date'] >= '2010-01-15'][data_df['date'] <= '2010-12-15']"
   ]
  },
  {
   "cell_type": "code",
   "execution_count": 93,
   "metadata": {
    "collapsed": false
   },
   "outputs": [
    {
     "data": {
      "text/html": [
       "<div>\n",
       "<style>\n",
       "    .dataframe thead tr:only-child th {\n",
       "        text-align: right;\n",
       "    }\n",
       "\n",
       "    .dataframe thead th {\n",
       "        text-align: left;\n",
       "    }\n",
       "\n",
       "    .dataframe tbody tr th {\n",
       "        vertical-align: top;\n",
       "    }\n",
       "</style>\n",
       "<table border=\"1\" class=\"dataframe\">\n",
       "  <thead>\n",
       "    <tr style=\"text-align: right;\">\n",
       "      <th></th>\n",
       "      <th>exchange_rate</th>\n",
       "      <th>symbol</th>\n",
       "      <th>date</th>\n",
       "      <th>cpi</th>\n",
       "      <th>name</th>\n",
       "      <th>country</th>\n",
       "      <th>region</th>\n",
       "      <th>cpi_usa</th>\n",
       "      <th>rate_std</th>\n",
       "    </tr>\n",
       "  </thead>\n",
       "  <tbody>\n",
       "    <tr>\n",
       "      <th>36</th>\n",
       "      <td>0.27244</td>\n",
       "      <td>AED</td>\n",
       "      <td>2010-01-15</td>\n",
       "      <td>99.31</td>\n",
       "      <td>United Arab Emirates dirham</td>\n",
       "      <td>United Arab Emirates</td>\n",
       "      <td>Middle East &amp; North Africa</td>\n",
       "      <td>99.37</td>\n",
       "      <td>1.000220</td>\n",
       "    </tr>\n",
       "    <tr>\n",
       "      <th>37</th>\n",
       "      <td>0.27208</td>\n",
       "      <td>AED</td>\n",
       "      <td>2010-02-15</td>\n",
       "      <td>99.15</td>\n",
       "      <td>United Arab Emirates dirham</td>\n",
       "      <td>United Arab Emirates</td>\n",
       "      <td>Middle East &amp; North Africa</td>\n",
       "      <td>99.40</td>\n",
       "      <td>0.998899</td>\n",
       "    </tr>\n",
       "    <tr>\n",
       "      <th>38</th>\n",
       "      <td>0.27237</td>\n",
       "      <td>AED</td>\n",
       "      <td>2010-03-15</td>\n",
       "      <td>99.24</td>\n",
       "      <td>United Arab Emirates dirham</td>\n",
       "      <td>United Arab Emirates</td>\n",
       "      <td>Middle East &amp; North Africa</td>\n",
       "      <td>99.81</td>\n",
       "      <td>0.999963</td>\n",
       "    </tr>\n",
       "    <tr>\n",
       "      <th>39</th>\n",
       "      <td>0.27230</td>\n",
       "      <td>AED</td>\n",
       "      <td>2010-04-15</td>\n",
       "      <td>99.21</td>\n",
       "      <td>United Arab Emirates dirham</td>\n",
       "      <td>United Arab Emirates</td>\n",
       "      <td>Middle East &amp; North Africa</td>\n",
       "      <td>99.98</td>\n",
       "      <td>0.999706</td>\n",
       "    </tr>\n",
       "    <tr>\n",
       "      <th>40</th>\n",
       "      <td>0.27237</td>\n",
       "      <td>AED</td>\n",
       "      <td>2010-05-15</td>\n",
       "      <td>99.14</td>\n",
       "      <td>United Arab Emirates dirham</td>\n",
       "      <td>United Arab Emirates</td>\n",
       "      <td>Middle East &amp; North Africa</td>\n",
       "      <td>100.06</td>\n",
       "      <td>0.999963</td>\n",
       "    </tr>\n",
       "  </tbody>\n",
       "</table>\n",
       "</div>"
      ],
      "text/plain": [
       "    exchange_rate symbol        date    cpi                         name  \\\n",
       "36        0.27244    AED  2010-01-15  99.31  United Arab Emirates dirham   \n",
       "37        0.27208    AED  2010-02-15  99.15  United Arab Emirates dirham   \n",
       "38        0.27237    AED  2010-03-15  99.24  United Arab Emirates dirham   \n",
       "39        0.27230    AED  2010-04-15  99.21  United Arab Emirates dirham   \n",
       "40        0.27237    AED  2010-05-15  99.14  United Arab Emirates dirham   \n",
       "\n",
       "                 country                      region  cpi_usa  rate_std  \n",
       "36  United Arab Emirates  Middle East & North Africa    99.37  1.000220  \n",
       "37  United Arab Emirates  Middle East & North Africa    99.40  0.998899  \n",
       "38  United Arab Emirates  Middle East & North Africa    99.81  0.999963  \n",
       "39  United Arab Emirates  Middle East & North Africa    99.98  0.999706  \n",
       "40  United Arab Emirates  Middle East & North Africa   100.06  0.999963  "
      ]
     },
     "execution_count": 93,
     "metadata": {},
     "output_type": "execute_result"
    }
   ],
   "source": [
    "data_2010_df.head()"
   ]
  },
  {
   "cell_type": "code",
   "execution_count": 94,
   "metadata": {
    "collapsed": false
   },
   "outputs": [
    {
     "data": {
      "text/plain": [
       "symbol\n",
       "AED    101.431167\n",
       "BGN    101.603667\n",
       "BRL    112.606583\n",
       "CAD    103.110417\n",
       "CHF     99.082417\n",
       "CNY    105.631750\n",
       "COP    105.426667\n",
       "CYP    100.822417\n",
       "CZK    102.490417\n",
       "DKK    102.275167\n",
       "DZD    109.098000\n",
       "EGP    117.265667\n",
       "EUR    102.805417\n",
       "FJD    106.105083\n",
       "GBP    104.132500\n",
       "GHS    123.369750\n",
       "HKD    108.553417\n",
       "HNL    109.197333\n",
       "HRK    102.435750\n",
       "HUF    103.320167\n",
       "IDR    109.431000\n",
       "ILS    101.732000\n",
       "INR    114.734500\n",
       "ISK    103.544667\n",
       "JMD    110.607667\n",
       "JPY    101.285250\n",
       "KRW    102.980583\n",
       "KWD    104.590167\n",
       "LKR    109.261417\n",
       "MAD    101.775250\n",
       "MTL    102.606833\n",
       "MXN    105.518667\n",
       "MYR    104.246250\n",
       "NOK    102.026333\n",
       "PEN    105.879583\n",
       "PHP    105.072167\n",
       "PKR    113.392500\n",
       "PLN    102.732417\n",
       "RON    103.659917\n",
       "RUB    113.975167\n",
       "SAR    105.119167\n",
       "SEK    101.676750\n",
       "SGD    105.215583\n",
       "SKK    103.648167\n",
       "THB    103.943500\n",
       "TND    108.307667\n",
       "TRY    114.348583\n",
       "TTD    109.026917\n",
       "UYU    116.702083\n",
       "VND    117.159583\n",
       "ZAR    109.193250\n",
       "Name: cpi, dtype: float64"
      ]
     },
     "execution_count": 94,
     "metadata": {},
     "output_type": "execute_result"
    }
   ],
   "source": [
    "data_df.groupby('symbol')['cpi'].mean()"
   ]
  },
  {
   "cell_type": "code",
   "execution_count": 96,
   "metadata": {
    "collapsed": false
   },
   "outputs": [
    {
     "data": {
      "text/html": [
       "<div>\n",
       "<style>\n",
       "    .dataframe thead tr:only-child th {\n",
       "        text-align: right;\n",
       "    }\n",
       "\n",
       "    .dataframe thead th {\n",
       "        text-align: left;\n",
       "    }\n",
       "\n",
       "    .dataframe tbody tr th {\n",
       "        vertical-align: top;\n",
       "    }\n",
       "</style>\n",
       "<table border=\"1\" class=\"dataframe\">\n",
       "  <thead>\n",
       "    <tr style=\"text-align: right;\">\n",
       "      <th></th>\n",
       "      <th>exchange_rate</th>\n",
       "      <th>symbol</th>\n",
       "      <th>date</th>\n",
       "      <th>cpi</th>\n",
       "      <th>name</th>\n",
       "      <th>country</th>\n",
       "      <th>region</th>\n",
       "      <th>cpi_usa</th>\n",
       "      <th>rate_std</th>\n",
       "    </tr>\n",
       "  </thead>\n",
       "  <tbody>\n",
       "    <tr>\n",
       "      <th>5760</th>\n",
       "      <td>0.041107</td>\n",
       "      <td>UYU</td>\n",
       "      <td>2007-01-15</td>\n",
       "      <td>77.95</td>\n",
       "      <td>Peso Uruguayo</td>\n",
       "      <td>Uruguay</td>\n",
       "      <td>Latin America &amp; Caribbean</td>\n",
       "      <td>92.83</td>\n",
       "      <td>0.854473</td>\n",
       "    </tr>\n",
       "    <tr>\n",
       "      <th>5761</th>\n",
       "      <td>0.041219</td>\n",
       "      <td>UYU</td>\n",
       "      <td>2007-02-15</td>\n",
       "      <td>78.43</td>\n",
       "      <td>Peso Uruguayo</td>\n",
       "      <td>Uruguay</td>\n",
       "      <td>Latin America &amp; Caribbean</td>\n",
       "      <td>93.32</td>\n",
       "      <td>0.856801</td>\n",
       "    </tr>\n",
       "    <tr>\n",
       "      <th>5762</th>\n",
       "      <td>0.041350</td>\n",
       "      <td>UYU</td>\n",
       "      <td>2007-03-15</td>\n",
       "      <td>79.13</td>\n",
       "      <td>Peso Uruguayo</td>\n",
       "      <td>Uruguay</td>\n",
       "      <td>Latin America &amp; Caribbean</td>\n",
       "      <td>94.17</td>\n",
       "      <td>0.859524</td>\n",
       "    </tr>\n",
       "    <tr>\n",
       "      <th>5763</th>\n",
       "      <td>0.041681</td>\n",
       "      <td>UYU</td>\n",
       "      <td>2007-04-15</td>\n",
       "      <td>80.10</td>\n",
       "      <td>Peso Uruguayo</td>\n",
       "      <td>Uruguay</td>\n",
       "      <td>Latin America &amp; Caribbean</td>\n",
       "      <td>94.79</td>\n",
       "      <td>0.866405</td>\n",
       "    </tr>\n",
       "    <tr>\n",
       "      <th>5764</th>\n",
       "      <td>0.041819</td>\n",
       "      <td>UYU</td>\n",
       "      <td>2007-05-15</td>\n",
       "      <td>80.71</td>\n",
       "      <td>Peso Uruguayo</td>\n",
       "      <td>Uruguay</td>\n",
       "      <td>Latin America &amp; Caribbean</td>\n",
       "      <td>95.37</td>\n",
       "      <td>0.869273</td>\n",
       "    </tr>\n",
       "  </tbody>\n",
       "</table>\n",
       "</div>"
      ],
      "text/plain": [
       "      exchange_rate symbol        date    cpi           name  country  \\\n",
       "5760       0.041107    UYU  2007-01-15  77.95  Peso Uruguayo  Uruguay   \n",
       "5761       0.041219    UYU  2007-02-15  78.43  Peso Uruguayo  Uruguay   \n",
       "5762       0.041350    UYU  2007-03-15  79.13  Peso Uruguayo  Uruguay   \n",
       "5763       0.041681    UYU  2007-04-15  80.10  Peso Uruguayo  Uruguay   \n",
       "5764       0.041819    UYU  2007-05-15  80.71  Peso Uruguayo  Uruguay   \n",
       "\n",
       "                         region  cpi_usa  rate_std  \n",
       "5760  Latin America & Caribbean    92.83  0.854473  \n",
       "5761  Latin America & Caribbean    93.32  0.856801  \n",
       "5762  Latin America & Caribbean    94.17  0.859524  \n",
       "5763  Latin America & Caribbean    94.79  0.866405  \n",
       "5764  Latin America & Caribbean    95.37  0.869273  "
      ]
     },
     "execution_count": 96,
     "metadata": {},
     "output_type": "execute_result"
    }
   ],
   "source": [
    "uy_df = data_df[data_df['symbol'] == 'UYU']\n",
    "uy_df.head()"
   ]
  },
  {
   "cell_type": "code",
   "execution_count": 100,
   "metadata": {
    "collapsed": false
   },
   "outputs": [],
   "source": [
    "q = uy_df['rate_std'] - uy_df['cpi_usa']/uy_df['cpi']"
   ]
  },
  {
   "cell_type": "code",
   "execution_count": 101,
   "metadata": {
    "collapsed": false
   },
   "outputs": [
    {
     "data": {
      "text/plain": [
       "<matplotlib.axes._subplots.AxesSubplot at 0x7f23b4342320>"
      ]
     },
     "execution_count": 101,
     "metadata": {},
     "output_type": "execute_result"
    },
    {
     "data": {
      "image/png": "[encoded data removed]",
      "text/plain": [
       "<matplotlib.figure.Figure at 0x7f23b42d1c50>"
      ]
     },
     "metadata": {},
     "output_type": "display_data"
    }
   ],
   "source": [
    "q.plot()"
   ]
  },
  {
   "cell_type": "code",
   "execution_count": 107,
   "metadata": {
    "collapsed": false
   },
   "outputs": [
    {
     "data": {
      "text/plain": [
       "<matplotlib.axes._subplots.AxesSubplot at 0x7f23af46ab38>"
      ]
     },
     "execution_count": 107,
     "metadata": {},
     "output_type": "execute_result"
    },
    {
     "data": {
      "image/png": "[encoded data removed]",
      "text/plain": [
       "<matplotlib.figure.Figure at 0x7f23af400780>"
      ]
     },
     "metadata": {},
     "output_type": "display_data"
    }
   ],
   "source": [
    "q.hist(bins=30)"
   ]
  },
  {
   "cell_type": "code",
   "execution_count": 108,
   "metadata": {
    "collapsed": true
   },
   "outputs": [],
   "source": [
    "q_tot = data_df['rate_std'] - data_df['cpi_usa']/data_df['cpi']"
   ]
  },
  {
   "cell_type": "code",
   "execution_count": 113,
   "metadata": {
    "collapsed": false
   },
   "outputs": [
    {
     "data": {
      "text/plain": [
       "<matplotlib.axes._subplots.AxesSubplot at 0x7f23af04dcf8>"
      ]
     },
     "execution_count": 113,
     "metadata": {},
     "output_type": "execute_result"
    },
    {
     "data": {
      "image/png": "[encoded data removed]",
      "text/plain": [
       "<matplotlib.figure.Figure at 0x7f23aef64978>"
      ]
     },
     "metadata": {},
     "output_type": "display_data"
    }
   ],
   "source": [
    "q_tot.hist(bins=60)"
   ]
  },
  {
   "cell_type": "code",
   "execution_count": 114,
   "metadata": {
    "collapsed": false
   },
   "outputs": [
    {
     "data": {
      "text/plain": [
       "<matplotlib.axes._subplots.AxesSubplot at 0x7f23af73d9b0>"
      ]
     },
     "execution_count": 114,
     "metadata": {},
     "output_type": "execute_result"
    },
    {
     "data": {
      "image/png": "[encoded data removed]",
      "text/plain": [
       "<matplotlib.figure.Figure at 0x7f23af6c6390>"
      ]
     },
     "metadata": {},
     "output_type": "display_data"
    }
   ],
   "source": [
    "q_tot.plot(kind='density')"
   ]
  },
  {
   "cell_type": "code",
   "execution_count": null,
   "metadata": {
    "collapsed": true
   },
   "outputs": [],
   "source": []
  }
 ],
 "metadata": {
  "kernelspec": {
   "display_name": "keras",
   "language": "python",
   "name": "keras"
  },
  "language_info": {
   "codemirror_mode": {
    "name": "ipython",
    "version": 3
   },
   "file_extension": ".py",
   "mimetype": "text/x-python",
   "name": "python",
   "nbconvert_exporter": "python",
   "pygments_lexer": "ipython3",
   "version": "3.6.1"
  }
 },
 "nbformat": 4,
 "nbformat_minor": 2
}
