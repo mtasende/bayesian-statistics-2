{
 "cells": [
  {
   "cell_type": "code",
   "execution_count": 1,
   "metadata": {
    "collapsed": false
   },
   "outputs": [
    {
     "name": "stdout",
     "output_type": "stream",
     "text": [
      "Populating the interactive namespace from numpy and matplotlib\n"
     ]
    }
   ],
   "source": [
    "import matplotlib.pyplot as plt\n",
    "import os\n",
    "import pandas as pd\n",
    "import sys\n",
    "from time import time\n",
    "import re\n",
    "import datetime as dt\n",
    "\n",
    "%matplotlib inline\n",
    "\n",
    "%pylab inline\n",
    "pylab.rcParams['figure.figsize'] = (20.0, 10.0)\n",
    "\n",
    "%load_ext autoreload\n",
    "%autoreload 2\n",
    "\n",
    "# Constants definition\n",
    "DATA_PATH = '../data/preprocessed_data/'\n",
    "PROJECT_ROOT = '../'\n",
    "SRC = PROJECT_ROOT + 'src/'\n",
    "\n",
    "DATA = 'data.csv'\n",
    "\n",
    "sys.path.append(SRC)"
   ]
  },
  {
   "cell_type": "code",
   "execution_count": 13,
   "metadata": {
    "collapsed": false
   },
   "outputs": [
    {
     "name": "stdout",
     "output_type": "stream",
     "text": [
      "(6120, 7)\n"
     ]
    },
    {
     "data": {
      "text/html": [
       "<div>\n",
       "<style>\n",
       "    .dataframe thead tr:only-child th {\n",
       "        text-align: right;\n",
       "    }\n",
       "\n",
       "    .dataframe thead th {\n",
       "        text-align: left;\n",
       "    }\n",
       "\n",
       "    .dataframe tbody tr th {\n",
       "        vertical-align: top;\n",
       "    }\n",
       "</style>\n",
       "<table border=\"1\" class=\"dataframe\">\n",
       "  <thead>\n",
       "    <tr style=\"text-align: right;\">\n",
       "      <th></th>\n",
       "      <th>exchange_rate</th>\n",
       "      <th>symbol</th>\n",
       "      <th>date</th>\n",
       "      <th>cpi</th>\n",
       "      <th>name</th>\n",
       "      <th>country</th>\n",
       "      <th>region</th>\n",
       "    </tr>\n",
       "  </thead>\n",
       "  <tbody>\n",
       "    <tr>\n",
       "      <th>0</th>\n",
       "      <td>0.27224</td>\n",
       "      <td>AED</td>\n",
       "      <td>2007-01-15</td>\n",
       "      <td>86.95</td>\n",
       "      <td>United Arab Emirates dirham</td>\n",
       "      <td>United Arab Emirates</td>\n",
       "      <td>Middle East &amp; North Africa</td>\n",
       "    </tr>\n",
       "    <tr>\n",
       "      <th>1</th>\n",
       "      <td>0.27230</td>\n",
       "      <td>AED</td>\n",
       "      <td>2007-02-15</td>\n",
       "      <td>86.95</td>\n",
       "      <td>United Arab Emirates dirham</td>\n",
       "      <td>United Arab Emirates</td>\n",
       "      <td>Middle East &amp; North Africa</td>\n",
       "    </tr>\n",
       "    <tr>\n",
       "      <th>2</th>\n",
       "      <td>0.27242</td>\n",
       "      <td>AED</td>\n",
       "      <td>2007-03-15</td>\n",
       "      <td>86.95</td>\n",
       "      <td>United Arab Emirates dirham</td>\n",
       "      <td>United Arab Emirates</td>\n",
       "      <td>Middle East &amp; North Africa</td>\n",
       "    </tr>\n",
       "    <tr>\n",
       "      <th>3</th>\n",
       "      <td>0.27233</td>\n",
       "      <td>AED</td>\n",
       "      <td>2007-04-15</td>\n",
       "      <td>86.95</td>\n",
       "      <td>United Arab Emirates dirham</td>\n",
       "      <td>United Arab Emirates</td>\n",
       "      <td>Middle East &amp; North Africa</td>\n",
       "    </tr>\n",
       "    <tr>\n",
       "      <th>4</th>\n",
       "      <td>0.27241</td>\n",
       "      <td>AED</td>\n",
       "      <td>2007-05-15</td>\n",
       "      <td>86.95</td>\n",
       "      <td>United Arab Emirates dirham</td>\n",
       "      <td>United Arab Emirates</td>\n",
       "      <td>Middle East &amp; North Africa</td>\n",
       "    </tr>\n",
       "  </tbody>\n",
       "</table>\n",
       "</div>"
      ],
      "text/plain": [
       "   exchange_rate symbol        date    cpi                         name  \\\n",
       "0        0.27224    AED  2007-01-15  86.95  United Arab Emirates dirham   \n",
       "1        0.27230    AED  2007-02-15  86.95  United Arab Emirates dirham   \n",
       "2        0.27242    AED  2007-03-15  86.95  United Arab Emirates dirham   \n",
       "3        0.27233    AED  2007-04-15  86.95  United Arab Emirates dirham   \n",
       "4        0.27241    AED  2007-05-15  86.95  United Arab Emirates dirham   \n",
       "\n",
       "                country                      region  \n",
       "0  United Arab Emirates  Middle East & North Africa  \n",
       "1  United Arab Emirates  Middle East & North Africa  \n",
       "2  United Arab Emirates  Middle East & North Africa  \n",
       "3  United Arab Emirates  Middle East & North Africa  \n",
       "4  United Arab Emirates  Middle East & North Africa  "
      ]
     },
     "execution_count": 13,
     "metadata": {},
     "output_type": "execute_result"
    }
   ],
   "source": [
    "data_df = pd.read_csv(DATA_PATH + DATA, index_col=0)\n",
    "print(data_df.shape)\n",
    "data_df.head()"
   ]
  },
  {
   "cell_type": "code",
   "execution_count": 14,
   "metadata": {
    "collapsed": false
   },
   "outputs": [
    {
     "data": {
      "text/plain": [
       "array(['Middle East & North Africa', 'Europe & Central Asia',\n",
       "       'Latin America & Caribbean', 'North America', 'East Asia & Pacific',\n",
       "       'Sub-Saharan Africa', 'South Asia'], dtype=object)"
      ]
     },
     "execution_count": 14,
     "metadata": {},
     "output_type": "execute_result"
    }
   ],
   "source": [
    "data_df['region'].unique()"
   ]
  },
  {
   "cell_type": "code",
   "execution_count": 16,
   "metadata": {
    "collapsed": false
   },
   "outputs": [
    {
     "data": {
      "text/plain": [
       "array(['BGN', 'CHF', 'CYP', 'CZK', 'DKK', 'EUR', 'GBP', 'HRK', 'HUF',\n",
       "       'ISK', 'NOK', 'PLN', 'RON', 'RUB', 'SEK', 'SKK', 'TRY'], dtype=object)"
      ]
     },
     "execution_count": 16,
     "metadata": {},
     "output_type": "execute_result"
    }
   ],
   "source": [
    "data_df[data_df['region'] == 'Europe & Central Asia']['symbol'].unique()"
   ]
  },
  {
   "cell_type": "code",
   "execution_count": 17,
   "metadata": {
    "collapsed": false
   },
   "outputs": [
    {
     "data": {
      "text/plain": [
       "array(['Bulgarian Lev', 'Swiss Franc', 'Cyprus Pound', 'Czech Koruna',\n",
       "       'Danish Krone', 'Euro', 'Pound Sterling', 'Croatian Kuna', 'Forint',\n",
       "       'Iceland Krona', 'Norwegian Krone', 'Zloty', 'Romanian New Leu',\n",
       "       'Russian Ruble', 'Swedish Krona', 'Slovak Koruna',\n",
       "       'New Turkish Lira'], dtype=object)"
      ]
     },
     "execution_count": 17,
     "metadata": {},
     "output_type": "execute_result"
    }
   ],
   "source": [
    "data_df[data_df['region'] == 'Europe & Central Asia']['name'].unique()"
   ]
  },
  {
   "cell_type": "markdown",
   "metadata": {},
   "source": [
    "## Many European currencies are \"paired\" to the Euro but they are allowed to fluctuate as much as 15%, and so, they have their own information. They will be kept."
   ]
  },
  {
   "cell_type": "code",
   "execution_count": null,
   "metadata": {
    "collapsed": true
   },
   "outputs": [],
   "source": []
  }
 ],
 "metadata": {
  "kernelspec": {
   "display_name": "keras",
   "language": "python",
   "name": "keras"
  },
  "language_info": {
   "codemirror_mode": {
    "name": "ipython",
    "version": 3
   },
   "file_extension": ".py",
   "mimetype": "text/x-python",
   "name": "python",
   "nbconvert_exporter": "python",
   "pygments_lexer": "ipython3",
   "version": "3.6.1"
  }
 },
 "nbformat": 4,
 "nbformat_minor": 2
}
